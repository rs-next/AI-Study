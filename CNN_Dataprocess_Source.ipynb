{
  "cells": [
    {
      "cell_type": "code",
      "source": [
        "from google.colab import auth\n",
        "auth.authenticate_user()\n",
        "\n",
        "!git config --global user.email \"rabbit082525@gmail.com\"\n",
        "!git config --global user.name \"rs-next\"\n",
        "\n",
        "from getpass import getpass\n",
        "token = getpass('Enter your GitHub token: ')\n",
        "!git clone https://{token}@github.com/rs-next/AI-Study.git\n"
      ],
      "metadata": {
        "colab": {
          "base_uri": "https://localhost:8080/"
        },
        "id": "hLvTYRdAx1ws",
        "outputId": "b0be2251-ab28-48a6-ce29-6b6192fbb037"
      },
      "execution_count": 2,
      "outputs": [
        {
          "output_type": "stream",
          "name": "stdout",
          "text": [
            "Enter your GitHub token: ··········\n",
            "Cloning into 'AI-Study'...\n",
            "warning: You appear to have cloned an empty repository.\n"
          ]
        }
      ]
    },
    {
      "cell_type": "code",
      "execution_count": null,
      "metadata": {
        "colab": {
          "base_uri": "https://localhost:8080/"
        },
        "id": "mGnuR5nbaxwj",
        "outputId": "3d482181-48cc-4ccb-ec54-a7dab2219544"
      },
      "outputs": [
        {
          "output_type": "stream",
          "name": "stdout",
          "text": [
            "Drive already mounted at /content/drive; to attempt to forcibly remount, call drive.mount(\"/content/drive\", force_remount=True).\n"
          ]
        }
      ],
      "source": [
        "from google.colab import drive\n",
        "drive.mount('/content/drive')"
      ]
    },
    {
      "cell_type": "code",
      "execution_count": null,
      "metadata": {
        "id": "9Sxh1Wl6LZV4"
      },
      "outputs": [],
      "source": [
        "from keras.models import Sequential\n",
        "from keras.layers import Dense\n",
        "from keras.layers import Dropout\n",
        "from keras.layers import Flatten\n",
        "from keras.layers import Activation, Dropout\n",
        "from keras.layers import Conv2D\n",
        "from keras.layers import MaxPooling2D\n",
        "import numpy as np\n",
        "import cv2\n",
        "import os\n",
        "import random\n",
        "import matplotlib.pyplot as plt\n",
        "from sklearn.preprocessing import LabelBinarizer\n",
        "from keras.utils import to_categorical\n",
        "from imutils import paths\n",
        "from sklearn.model_selection import train_test_split"
      ]
    },
    {
      "cell_type": "code",
      "execution_count": null,
      "metadata": {
        "id": "bQpnOeEFLZV9",
        "colab": {
          "base_uri": "https://localhost:8080/"
        },
        "outputId": "e79f3f7c-30d1-4cf3-ae5d-68f50c634904"
      },
      "outputs": [
        {
          "output_type": "stream",
          "name": "stdout",
          "text": [
            "paths /content/drive/MyDrive/dataset_large/airplane\n",
            "paths /content/drive/MyDrive/dataset_large/truck\n",
            "paths /content/drive/MyDrive/dataset_large/cat\n",
            "600\n"
          ]
        }
      ],
      "source": [
        "dir_path = '/content/drive/MyDrive/dataset_large'\n",
        "categories = ['airplane','truck','cat']\n",
        "data = []\n",
        "\n",
        "for i in categories:\n",
        "\n",
        "    paths = os.path.join(dir_path,i)\n",
        "    print('paths',paths)\n",
        "    ii=0\n",
        "    for j in os.listdir(paths):\n",
        "        img_path = os.path.join(paths,j)\n",
        "        labels = categories.index(i)\n",
        "\n",
        "        if (os.path.splitext(img_path)[1]=='.jpg'):\n",
        "          img = cv2.imread(img_path)\n",
        "          img = cv2.resize(img,(32,32))\n",
        "          data.append([img,labels])\n",
        "\n",
        "\n",
        "random.shuffle(data)\n",
        "print(len(data))"
      ]
    },
    {
      "cell_type": "code",
      "execution_count": null,
      "metadata": {
        "id": "xGw-MGyrLZWG",
        "colab": {
          "base_uri": "https://localhost:8080/"
        },
        "outputId": "f4c06f18-6aa9-484c-bc27-485641767921"
      },
      "outputs": [
        {
          "output_type": "stream",
          "name": "stdout",
          "text": [
            "Shape of train images is: (600, 32, 32, 3)\n",
            "Shape of labels is: (600,)\n",
            "[1 0 0 0 0 1 2 0 1 0 2 0 0 0 1 2 2 2 0 0 0 1 0 2 0 2 0 0 2 0 1 2 1 0 1 0 0\n",
            " 0 1 0 2 1 2 2 2 2 0 0 2 1 1 1 0 1 2 2 1 2 1 2 2 2 1 0 0 2 1 1 1 1 0 0 2 1\n",
            " 1 0 2 1 1 0 0 0 2 2 0 1 2 0 0 2 1 1 0 1 2 2 2 1 0 1 1 0 0 0 2 2 2 1 0 0 1\n",
            " 1 2 1 0 0 1 2 0 0 1 1 1 1 1 2 1 1 0 0 2 0 1 2 1 2 1 1 1 0 0 1 0 0 0 2 2 1\n",
            " 0 1 1 0 2 2 1 0 1 2 2 2 1 1 1 0 2 0 2 2 2 2 0 2 2 2 0 2 1 1 0 2 1 0 0 1 2\n",
            " 1 0 2 0 0 1 0 2 1 1 0 0 2 2 1 1 2 0 0 2 0 1 2 0 0 0 2 0 1 0 2 0 1 0 2 2 0\n",
            " 1 1 1 0 1 0 2 0 1 2 1 0 2 1 1 0 1 2 1 2 2 0 1 1 0 2 0 2 2 0 0 0 2 0 2 2 2\n",
            " 2 0 2 2 2 1 1 2 0 0 1 0 0 2 2 0 0 2 1 0 0 1 2 1 0 1 1 0 0 2 1 2 2 1 2 1 2\n",
            " 2 1 2 2 1 2 2 1 1 1 1 2 1 0 1 1 1 0 2 1 0 0 1 0 2 2 1 2 2 0 0 1 2 2 0 1 1\n",
            " 2 1 0 1 0 2 2 1 0 0 1 2 2 1 1 1 2 0 0 2 0 1 2 0 1 1 1 1 0 1 1 2 1 0 0 0 0\n",
            " 0 0 0 2 0 0 1 2 1 0 0 1 1 0 2 2 2 1 1 0 1 1 2 0 1 1 2 0 1 1 0 1 2 2 1 2 2\n",
            " 2 2 2 2 1 0 1 0 1 2 0 2 1 1 0 2 1 1 2 1 0 1 2 2 1 2 1 2 2 0 2 2 1 0 1 1 2\n",
            " 0 2 2 2 0 1 1 1 0 0 2 2 1 2 2 0 2 0 0 0 2 0 2 0 0 2 0 2 2 1 2 0 2 0 0 1 1\n",
            " 2 0 2 0 2 0 0 2 0 1 1 1 1 2 0 1 0 2 1 1 1 1 2 2 2 1 1 1 2 1 1 0 2 0 2 2 0\n",
            " 2 2 0 0 0 1 2 0 0 0 1 0 1 2 0 2 0 2 2 1 1 0 2 0 2 2 1 1 2 2 1 2 0 1 2 2 1\n",
            " 0 0 1 0 1 0 2 1 0 0 0 1 2 1 0 2 2 2 1 1 2 2 0 1 0 1 2 0 0 1 1 1 1 2 1 1 0\n",
            " 0 0 1 0 2 2 0 2]\n",
            "(32, 32, 3)\n"
          ]
        }
      ],
      "source": [
        "x = []\n",
        "y = []\n",
        "\n",
        "for features,label in data:\n",
        "    x.append(features)\n",
        "    y.append(label)\n",
        "\n",
        "#Converting lists into numpy arrays\n",
        "x = np.array(x)\n",
        "y = np.array(y)\n",
        "x = x/255.0\n",
        "x = np.array(x).reshape(-1, 32, 32, 3)\n",
        "print(\"Shape of train images is:\", x.shape)\n",
        "print(\"Shape of labels is:\", y.shape)\n",
        "print(y)\n",
        "print(x.shape[1:])"
      ]
    },
    {
      "cell_type": "code",
      "execution_count": null,
      "metadata": {
        "id": "e5j6kZ61LZWM",
        "colab": {
          "base_uri": "https://localhost:8080/"
        },
        "outputId": "b6ae5104-ab11-40a1-bbdd-38db02c75490"
      },
      "outputs": [
        {
          "output_type": "stream",
          "name": "stdout",
          "text": [
            "Model: \"sequential_4\"\n",
            "_________________________________________________________________\n",
            " Layer (type)                Output Shape              Param #   \n",
            "=================================================================\n",
            " conv2d_14 (Conv2D)          (None, 32, 32, 32)        1568      \n",
            "                                                                 \n",
            " max_pooling2d_13 (MaxPooli  (None, 16, 16, 32)        0         \n",
            " ng2D)                                                           \n",
            "                                                                 \n",
            " conv2d_15 (Conv2D)          (None, 15, 15, 64)        8256      \n",
            "                                                                 \n",
            " max_pooling2d_14 (MaxPooli  (None, 7, 7, 64)          0         \n",
            " ng2D)                                                           \n",
            "                                                                 \n",
            " conv2d_16 (Conv2D)          (None, 5, 5, 64)          36928     \n",
            "                                                                 \n",
            " max_pooling2d_15 (MaxPooli  (None, 2, 2, 64)          0         \n",
            " ng2D)                                                           \n",
            "                                                                 \n",
            " conv2d_17 (Conv2D)          (None, 2, 2, 128)         73856     \n",
            "                                                                 \n",
            " max_pooling2d_16 (MaxPooli  (None, 1, 1, 128)         0         \n",
            " ng2D)                                                           \n",
            "                                                                 \n",
            " dropout_6 (Dropout)         (None, 1, 1, 128)         0         \n",
            "                                                                 \n",
            " flatten_3 (Flatten)         (None, 128)               0         \n",
            "                                                                 \n",
            " dense_7 (Dense)             (None, 128)               16512     \n",
            "                                                                 \n",
            " dense_8 (Dense)             (None, 64)                8256      \n",
            "                                                                 \n",
            " dropout_7 (Dropout)         (None, 64)                0         \n",
            "                                                                 \n",
            " dense_9 (Dense)             (None, 3)                 195       \n",
            "                                                                 \n",
            "=================================================================\n",
            "Total params: 145571 (568.64 KB)\n",
            "Trainable params: 145571 (568.64 KB)\n",
            "Non-trainable params: 0 (0.00 Byte)\n",
            "_________________________________________________________________\n"
          ]
        }
      ],
      "source": [
        "model = Sequential()\n",
        "model.add(Conv2D(32,(4,4), activation='relu', padding='same',input_shape = (x.shape[1:])))\n",
        "model.add(MaxPooling2D(pool_size=(2,2)))\n",
        "\n",
        "model.add(Conv2D(64,(2,2), activation='relu'))\n",
        "model.add(MaxPooling2D(pool_size=(2,2)))\n",
        "\n",
        "model.add(Conv2D(64,(3,3), activation='relu'))\n",
        "model.add(MaxPooling2D(pool_size=(2,2)))\n",
        "\n",
        "model.add(Conv2D(128,(3,3), activation='relu',padding='same'))\n",
        "model.add(MaxPooling2D(pool_size=(2,2)))\n",
        "model.add(Dropout(0.5))\n",
        "model.add(Flatten())\n",
        "\n",
        "model.add(Dense(128,activation='relu'))\n",
        "model.add(Dense(64,activation='relu'))\n",
        "model.add(Dropout(0.5))\n",
        "model.add(Dense(3,activation='softmax'))\n",
        "model.summary()"
      ]
    },
    {
      "cell_type": "code",
      "execution_count": null,
      "metadata": {
        "id": "1gAOvFNVLZWO",
        "colab": {
          "base_uri": "https://localhost:8080/"
        },
        "outputId": "acf8b298-b7a8-4368-f6c1-b0f6cda49ffd"
      },
      "outputs": [
        {
          "output_type": "stream",
          "name": "stdout",
          "text": [
            "Epoch 1/50\n",
            "48/48 [==============================] - 2s 23ms/step - loss: 1.1064 - accuracy: 0.3208 - val_loss: 1.0965 - val_accuracy: 0.3417\n",
            "Epoch 2/50\n",
            "48/48 [==============================] - 1s 17ms/step - loss: 1.0948 - accuracy: 0.3604 - val_loss: 1.0964 - val_accuracy: 0.3750\n",
            "Epoch 3/50\n",
            "48/48 [==============================] - 1s 17ms/step - loss: 1.0967 - accuracy: 0.3521 - val_loss: 1.0676 - val_accuracy: 0.6000\n",
            "Epoch 4/50\n",
            "48/48 [==============================] - 1s 28ms/step - loss: 1.0627 - accuracy: 0.4437 - val_loss: 1.0339 - val_accuracy: 0.5083\n",
            "Epoch 5/50\n",
            "48/48 [==============================] - 1s 28ms/step - loss: 1.0492 - accuracy: 0.4750 - val_loss: 0.9417 - val_accuracy: 0.5000\n",
            "Epoch 6/50\n",
            "48/48 [==============================] - 1s 29ms/step - loss: 0.9937 - accuracy: 0.5396 - val_loss: 1.0520 - val_accuracy: 0.4250\n",
            "Epoch 7/50\n",
            "48/48 [==============================] - 1s 29ms/step - loss: 0.9244 - accuracy: 0.6167 - val_loss: 0.8637 - val_accuracy: 0.6583\n",
            "Epoch 8/50\n",
            "48/48 [==============================] - 1s 17ms/step - loss: 0.8224 - accuracy: 0.6792 - val_loss: 0.7727 - val_accuracy: 0.6750\n",
            "Epoch 9/50\n",
            "48/48 [==============================] - 1s 17ms/step - loss: 0.8006 - accuracy: 0.6792 - val_loss: 0.7193 - val_accuracy: 0.7167\n",
            "Epoch 10/50\n",
            "48/48 [==============================] - 1s 18ms/step - loss: 0.7048 - accuracy: 0.7292 - val_loss: 0.6227 - val_accuracy: 0.7333\n",
            "Epoch 11/50\n",
            "48/48 [==============================] - 1s 16ms/step - loss: 0.6743 - accuracy: 0.7312 - val_loss: 0.7670 - val_accuracy: 0.6917\n",
            "Epoch 12/50\n",
            "48/48 [==============================] - 1s 18ms/step - loss: 0.6055 - accuracy: 0.7604 - val_loss: 0.7016 - val_accuracy: 0.7000\n",
            "Epoch 13/50\n",
            "48/48 [==============================] - 1s 16ms/step - loss: 0.6145 - accuracy: 0.7688 - val_loss: 0.6339 - val_accuracy: 0.7083\n",
            "Epoch 14/50\n",
            "48/48 [==============================] - 1s 17ms/step - loss: 0.5354 - accuracy: 0.7833 - val_loss: 0.5958 - val_accuracy: 0.7500\n",
            "Epoch 15/50\n",
            "48/48 [==============================] - 1s 16ms/step - loss: 0.5302 - accuracy: 0.7896 - val_loss: 0.7229 - val_accuracy: 0.7333\n",
            "Epoch 16/50\n",
            "48/48 [==============================] - 1s 17ms/step - loss: 0.5109 - accuracy: 0.8292 - val_loss: 0.5170 - val_accuracy: 0.8083\n",
            "Epoch 17/50\n",
            "48/48 [==============================] - 1s 17ms/step - loss: 0.4193 - accuracy: 0.8417 - val_loss: 0.5534 - val_accuracy: 0.7833\n",
            "Epoch 18/50\n",
            "48/48 [==============================] - 1s 19ms/step - loss: 0.3612 - accuracy: 0.8583 - val_loss: 0.5337 - val_accuracy: 0.7833\n",
            "Epoch 19/50\n",
            "48/48 [==============================] - 1s 17ms/step - loss: 0.3822 - accuracy: 0.8625 - val_loss: 0.5316 - val_accuracy: 0.7667\n",
            "Epoch 20/50\n",
            "48/48 [==============================] - 1s 28ms/step - loss: 0.4035 - accuracy: 0.8521 - val_loss: 0.5892 - val_accuracy: 0.7500\n",
            "Epoch 21/50\n",
            "48/48 [==============================] - 1s 28ms/step - loss: 0.3912 - accuracy: 0.8583 - val_loss: 0.5196 - val_accuracy: 0.8000\n",
            "Epoch 22/50\n",
            "48/48 [==============================] - 1s 29ms/step - loss: 0.3271 - accuracy: 0.8750 - val_loss: 0.5559 - val_accuracy: 0.8083\n",
            "Epoch 23/50\n",
            "48/48 [==============================] - 1s 25ms/step - loss: 0.2329 - accuracy: 0.9083 - val_loss: 0.6564 - val_accuracy: 0.7833\n",
            "Epoch 24/50\n",
            "48/48 [==============================] - 1s 16ms/step - loss: 0.1858 - accuracy: 0.9354 - val_loss: 0.6445 - val_accuracy: 0.7667\n",
            "Epoch 25/50\n",
            "48/48 [==============================] - 1s 16ms/step - loss: 0.1680 - accuracy: 0.9396 - val_loss: 0.7450 - val_accuracy: 0.8083\n",
            "Epoch 26/50\n",
            "48/48 [==============================] - 1s 17ms/step - loss: 0.1948 - accuracy: 0.9292 - val_loss: 0.8006 - val_accuracy: 0.8167\n",
            "Epoch 27/50\n",
            "48/48 [==============================] - 1s 17ms/step - loss: 0.2223 - accuracy: 0.9062 - val_loss: 0.5862 - val_accuracy: 0.7833\n",
            "Epoch 28/50\n",
            "48/48 [==============================] - 1s 16ms/step - loss: 0.1671 - accuracy: 0.9438 - val_loss: 0.6289 - val_accuracy: 0.7583\n",
            "Epoch 29/50\n",
            "48/48 [==============================] - 1s 16ms/step - loss: 0.1581 - accuracy: 0.9500 - val_loss: 0.7568 - val_accuracy: 0.7917\n",
            "Epoch 30/50\n",
            "48/48 [==============================] - 1s 17ms/step - loss: 0.1762 - accuracy: 0.9333 - val_loss: 0.6867 - val_accuracy: 0.8250\n",
            "Epoch 31/50\n",
            "48/48 [==============================] - 1s 17ms/step - loss: 0.1802 - accuracy: 0.9396 - val_loss: 0.7304 - val_accuracy: 0.7667\n",
            "Epoch 32/50\n",
            "48/48 [==============================] - 1s 17ms/step - loss: 0.1176 - accuracy: 0.9583 - val_loss: 0.8956 - val_accuracy: 0.7500\n",
            "Epoch 33/50\n",
            "48/48 [==============================] - 1s 16ms/step - loss: 0.0728 - accuracy: 0.9750 - val_loss: 0.9646 - val_accuracy: 0.7917\n",
            "Epoch 34/50\n",
            "48/48 [==============================] - 1s 17ms/step - loss: 0.0577 - accuracy: 0.9792 - val_loss: 0.9761 - val_accuracy: 0.7500\n",
            "Epoch 35/50\n",
            "48/48 [==============================] - 1s 17ms/step - loss: 0.1029 - accuracy: 0.9625 - val_loss: 0.8469 - val_accuracy: 0.8083\n",
            "Epoch 36/50\n",
            "48/48 [==============================] - 1s 27ms/step - loss: 0.1325 - accuracy: 0.9688 - val_loss: 0.7512 - val_accuracy: 0.7833\n",
            "Epoch 37/50\n",
            "48/48 [==============================] - 1s 28ms/step - loss: 0.0298 - accuracy: 0.9979 - val_loss: 1.0039 - val_accuracy: 0.8000\n",
            "Epoch 38/50\n",
            "48/48 [==============================] - 1s 30ms/step - loss: 0.0186 - accuracy: 0.9937 - val_loss: 1.1032 - val_accuracy: 0.7750\n",
            "Epoch 39/50\n",
            "48/48 [==============================] - 1s 28ms/step - loss: 0.0265 - accuracy: 0.9937 - val_loss: 1.2193 - val_accuracy: 0.8083\n",
            "Epoch 40/50\n",
            "48/48 [==============================] - 1s 17ms/step - loss: 0.1219 - accuracy: 0.9604 - val_loss: 0.9577 - val_accuracy: 0.7917\n",
            "Epoch 41/50\n",
            "48/48 [==============================] - 1s 16ms/step - loss: 0.0432 - accuracy: 0.9875 - val_loss: 1.0207 - val_accuracy: 0.7500\n",
            "Epoch 42/50\n",
            "48/48 [==============================] - 1s 16ms/step - loss: 0.2118 - accuracy: 0.9312 - val_loss: 0.9795 - val_accuracy: 0.7750\n",
            "Epoch 43/50\n",
            "48/48 [==============================] - 1s 17ms/step - loss: 0.0718 - accuracy: 0.9771 - val_loss: 1.2768 - val_accuracy: 0.7417\n",
            "Epoch 44/50\n",
            "48/48 [==============================] - 1s 16ms/step - loss: 0.0430 - accuracy: 0.9875 - val_loss: 1.2070 - val_accuracy: 0.7583\n",
            "Epoch 45/50\n",
            "48/48 [==============================] - 1s 16ms/step - loss: 0.2183 - accuracy: 0.9396 - val_loss: 0.8906 - val_accuracy: 0.7583\n",
            "Epoch 46/50\n",
            "48/48 [==============================] - 1s 16ms/step - loss: 0.0627 - accuracy: 0.9771 - val_loss: 0.8543 - val_accuracy: 0.7917\n",
            "Epoch 47/50\n",
            "48/48 [==============================] - 1s 17ms/step - loss: 0.0166 - accuracy: 0.9979 - val_loss: 0.8460 - val_accuracy: 0.7833\n",
            "Epoch 48/50\n",
            "48/48 [==============================] - 1s 17ms/step - loss: 0.0479 - accuracy: 0.9875 - val_loss: 1.0597 - val_accuracy: 0.7917\n",
            "Epoch 49/50\n",
            "48/48 [==============================] - 1s 17ms/step - loss: 0.1271 - accuracy: 0.9625 - val_loss: 1.0025 - val_accuracy: 0.7750\n",
            "Epoch 50/50\n",
            "48/48 [==============================] - 1s 19ms/step - loss: 0.2642 - accuracy: 0.9354 - val_loss: 0.8076 - val_accuracy: 0.7333\n"
          ]
        },
        {
          "output_type": "execute_result",
          "data": {
            "text/plain": [
              "<keras.src.callbacks.History at 0x7964af362b30>"
            ]
          },
          "metadata": {},
          "execution_count": 41
        }
      ],
      "source": [
        "model.compile(optimizer='adam',\n",
        "              loss='sparse_categorical_crossentropy',\n",
        "              metrics=['accuracy'])\n",
        "model.fit(x, y, epochs=50,batch_size=10,validation_split=0.2)"
      ]
    },
    {
      "cell_type": "code",
      "execution_count": null,
      "metadata": {
        "id": "0G-d3gJ4LZWQ"
      },
      "outputs": [],
      "source": [
        "\n",
        "import numpy as np\n",
        "\n",
        "\n",
        "def image(path):\n",
        "    print('path',path)\n",
        "    img = cv2.imread(path)\n",
        "\n",
        "    new_arr = cv2.resize(img, (32, 32))\n",
        "    new_arr = np.array(new_arr)\n",
        "    new_arr = new_arr/255.0\n",
        "    new_arr = new_arr.reshape(-1, 32, 32, 3)\n",
        "\n",
        "    return new_arr\n",
        "\n"
      ]
    },
    {
      "cell_type": "code",
      "execution_count": null,
      "metadata": {
        "id": "i7c_uIieLZWS",
        "colab": {
          "base_uri": "https://localhost:8080/"
        },
        "outputId": "9b5a6811-6826-474f-c93a-20b05a581a8d"
      },
      "outputs": [
        {
          "output_type": "stream",
          "name": "stdout",
          "text": [
            "path /content/drive/MyDrive/dataset_large/test_airplane/0991.jpg\n",
            "1/1 [==============================] - 0s 155ms/step\n",
            "labels 0\n",
            "[[0.999 0.001 0.   ]]\n",
            "classification results 0\n",
            "path /content/drive/MyDrive/dataset_large/test_airplane/0995.jpg\n",
            "1/1 [==============================] - 0s 28ms/step\n",
            "labels 0\n",
            "[[0.957 0.01  0.033]]\n",
            "classification results 0\n",
            "path /content/drive/MyDrive/dataset_large/test_airplane/0998.jpg\n",
            "1/1 [==============================] - 0s 33ms/step\n",
            "labels 0\n",
            "[[0.549 0.432 0.02 ]]\n",
            "classification results 0\n",
            "path /content/drive/MyDrive/dataset_large/test_airplane/0996.jpg\n",
            "1/1 [==============================] - 0s 28ms/step\n",
            "labels 0\n",
            "[[0.978 0.    0.022]]\n",
            "classification results 0\n",
            "path /content/drive/MyDrive/dataset_large/test_airplane/0997.jpg\n",
            "1/1 [==============================] - 0s 32ms/step\n",
            "labels 0\n",
            "[[0.163 0.15  0.686]]\n",
            "classification results 2\n",
            "path /content/drive/MyDrive/dataset_large/test_airplane/0999.jpg\n",
            "1/1 [==============================] - 0s 36ms/step\n",
            "labels 0\n",
            "[[0.999 0.    0.   ]]\n",
            "classification results 0\n",
            "path /content/drive/MyDrive/dataset_large/test_airplane/0992.jpg\n",
            "1/1 [==============================] - 0s 34ms/step\n",
            "labels 0\n",
            "[[1. 0. 0.]]\n",
            "classification results 0\n",
            "path /content/drive/MyDrive/dataset_large/test_airplane/0994.jpg\n",
            "1/1 [==============================] - 0s 29ms/step\n",
            "labels 0\n",
            "[[0.837 0.074 0.089]]\n",
            "classification results 0\n",
            "path /content/drive/MyDrive/dataset_large/test_airplane/0993.jpg\n",
            "1/1 [==============================] - 0s 30ms/step\n",
            "labels 0\n",
            "[[0.847 0.021 0.132]]\n",
            "classification results 0\n",
            "path /content/drive/MyDrive/dataset_large/test_airplane/0990.jpg\n",
            "1/1 [==============================] - 0s 29ms/step\n",
            "labels 0\n",
            "[[0.998 0.    0.002]]\n",
            "classification results 0\n",
            "path /content/drive/MyDrive/dataset_large/test_truck/0994.jpg\n",
            "1/1 [==============================] - 0s 37ms/step\n",
            "labels 1\n",
            "[[0.918 0.036 0.046]]\n",
            "classification results 0\n",
            "path /content/drive/MyDrive/dataset_large/test_truck/0991.jpg\n",
            "1/1 [==============================] - 0s 35ms/step\n",
            "labels 1\n",
            "[[0. 1. 0.]]\n",
            "classification results 1\n",
            "path /content/drive/MyDrive/dataset_large/test_truck/0995.jpg\n",
            "1/1 [==============================] - 0s 35ms/step\n",
            "labels 1\n",
            "[[0. 1. 0.]]\n",
            "classification results 1\n",
            "path /content/drive/MyDrive/dataset_large/test_truck/0996.jpg\n",
            "1/1 [==============================] - 0s 33ms/step\n",
            "labels 1\n",
            "[[0.004 0.995 0.001]]\n",
            "classification results 1\n",
            "path /content/drive/MyDrive/dataset_large/test_truck/0993.jpg\n",
            "1/1 [==============================] - 0s 29ms/step\n",
            "labels 1\n",
            "[[0. 1. 0.]]\n",
            "classification results 1\n",
            "path /content/drive/MyDrive/dataset_large/test_truck/0997.jpg\n",
            "1/1 [==============================] - 0s 30ms/step\n",
            "labels 1\n",
            "[[0.002 0.995 0.003]]\n",
            "classification results 1\n",
            "path /content/drive/MyDrive/dataset_large/test_truck/0992.jpg\n",
            "1/1 [==============================] - 0s 33ms/step\n",
            "labels 1\n",
            "[[0.003 0.995 0.002]]\n",
            "classification results 1\n",
            "path /content/drive/MyDrive/dataset_large/test_truck/0990.jpg\n",
            "1/1 [==============================] - 0s 37ms/step\n",
            "labels 1\n",
            "[[0.941 0.027 0.032]]\n",
            "classification results 0\n",
            "path /content/drive/MyDrive/dataset_large/test_truck/0998.jpg\n",
            "1/1 [==============================] - 0s 35ms/step\n",
            "labels 1\n",
            "[[0.008 0.988 0.004]]\n",
            "classification results 1\n",
            "path /content/drive/MyDrive/dataset_large/test_truck/0999.jpg\n",
            "1/1 [==============================] - 0s 30ms/step\n",
            "labels 1\n",
            "[[0.001 0.998 0.   ]]\n",
            "classification results 1\n",
            "path /content/drive/MyDrive/dataset_large/test_cat/0999.jpg\n",
            "1/1 [==============================] - 0s 33ms/step\n",
            "labels 2\n",
            "[[0.021 0.008 0.971]]\n",
            "classification results 2\n",
            "path /content/drive/MyDrive/dataset_large/test_cat/0998.jpg\n",
            "1/1 [==============================] - 0s 37ms/step\n",
            "labels 2\n",
            "[[0.034 0.016 0.949]]\n",
            "classification results 2\n",
            "path /content/drive/MyDrive/dataset_large/test_cat/0994.jpg\n",
            "1/1 [==============================] - 0s 30ms/step\n",
            "labels 2\n",
            "[[0.138 0.074 0.788]]\n",
            "classification results 2\n",
            "path /content/drive/MyDrive/dataset_large/test_cat/0995.jpg\n",
            "1/1 [==============================] - 0s 35ms/step\n",
            "labels 2\n",
            "[[0.192 0.004 0.805]]\n",
            "classification results 2\n",
            "path /content/drive/MyDrive/dataset_large/test_cat/0997.jpg\n",
            "1/1 [==============================] - 0s 55ms/step\n",
            "labels 2\n",
            "[[0.03  0.024 0.946]]\n",
            "classification results 2\n",
            "path /content/drive/MyDrive/dataset_large/test_cat/0996.jpg\n",
            "1/1 [==============================] - 0s 36ms/step\n",
            "labels 2\n",
            "[[0.056 0.022 0.923]]\n",
            "classification results 2\n",
            "path /content/drive/MyDrive/dataset_large/test_cat/0991.jpg\n",
            "1/1 [==============================] - 0s 32ms/step\n",
            "labels 2\n",
            "[[0.015 0.046 0.939]]\n",
            "classification results 2\n",
            "path /content/drive/MyDrive/dataset_large/test_cat/0992.jpg\n",
            "1/1 [==============================] - 0s 34ms/step\n",
            "labels 2\n",
            "[[0.026 0.014 0.96 ]]\n",
            "classification results 2\n",
            "path /content/drive/MyDrive/dataset_large/test_cat/0990.jpg\n",
            "1/1 [==============================] - 0s 32ms/step\n",
            "labels 2\n",
            "[[0.002 0.001 0.997]]\n",
            "classification results 2\n",
            "path /content/drive/MyDrive/dataset_large/test_cat/0993.jpg\n",
            "1/1 [==============================] - 0s 38ms/step\n",
            "labels 2\n",
            "[[0.593 0.046 0.362]]\n",
            "classification results 0\n",
            "### correnct cnt out of 30==> 26\n"
          ]
        }
      ],
      "source": [
        "dir_path = '/content/drive/MyDrive/dataset_large'\n",
        "categories = ['test_airplane','test_truck','test_cat']\n",
        "data = []\n",
        "\n",
        "correct_cnt=0\n",
        "for i in categories:\n",
        "\n",
        "    paths = os.path.join(dir_path,i)\n",
        "    ii=0\n",
        "    for j in os.listdir(paths):\n",
        "        img_path = os.path.join(paths,j)\n",
        "      #  print(img_path)\n",
        "        labels = categories.index(i)\n",
        "      #  print(img_path,labels)\n",
        "        prediction = model.predict(image(img_path))\n",
        "        print('labels' ,labels)\n",
        "        print(np.round(prediction,3))\n",
        "        print('classification results' ,prediction.argmax())\n",
        "        if (labels==prediction.argmax()):\n",
        "            correct_cnt=correct_cnt+1\n",
        "print('### correnct cnt out of 30==>',correct_cnt)"
      ]
    },
    {
      "cell_type": "code",
      "source": [
        "prediction = model.predict(image('/content/drive/MyDrive/dataset_large/test_cat/0999.jpg'))\n",
        "#print(prediction.argmax())\n",
        "print(np.round(prediction,3))\n",
        "#airplane: 1 0 0, truck : 0 1 0,cat: 0 0 1"
      ],
      "metadata": {
        "colab": {
          "base_uri": "https://localhost:8080/"
        },
        "id": "n6CaGMAQKSa6",
        "outputId": "e7c7d191-8fc3-4c30-d7c1-a70c1898bde8"
      },
      "execution_count": null,
      "outputs": [
        {
          "output_type": "stream",
          "name": "stdout",
          "text": [
            "path /content/drive/MyDrive/dataset_large/test_cat/0999.jpg\n",
            "1/1 [==============================] - 0s 29ms/step\n",
            "[[0. 0. 1.]]\n"
          ]
        }
      ]
    },
    {
      "cell_type": "markdown",
      "source": [],
      "metadata": {
        "id": "AD8IsiBALJAb"
      }
    },
    {
      "cell_type": "markdown",
      "source": [],
      "metadata": {
        "id": "E0ZDHG9tK5Eq"
      }
    }
  ],
  "metadata": {
    "colab": {
      "provenance": []
    },
    "kernelspec": {
      "display_name": "Python 3 (ipykernel)",
      "language": "python",
      "name": "python3"
    },
    "language_info": {
      "codemirror_mode": {
        "name": "ipython",
        "version": 3
      },
      "file_extension": ".py",
      "mimetype": "text/x-python",
      "name": "python",
      "nbconvert_exporter": "python",
      "pygments_lexer": "ipython3",
      "version": "3.7.13"
    }
  },
  "nbformat": 4,
  "nbformat_minor": 0
}